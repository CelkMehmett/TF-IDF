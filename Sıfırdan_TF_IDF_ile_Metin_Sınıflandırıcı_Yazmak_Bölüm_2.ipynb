{
  "nbformat": 4,
  "nbformat_minor": 0,
  "metadata": {
    "colab": {
      "provenance": []
    },
    "kernelspec": {
      "name": "python3",
      "display_name": "Python 3"
    },
    "language_info": {
      "name": "python"
    }
  },
  "cells": [
    {
      "cell_type": "code",
      "execution_count": 1,
      "metadata": {
        "id": "Ev9UjlKwV9R7"
      },
      "outputs": [],
      "source": [
        "dataset = [\n",
        "    {\"text\": \"Kendimi bu dünyada geliştirmeliyim\", \"label\": \"kişisel gelişim\"},\n",
        "    {\"text\": \"Çok çalışmalı ve kendimi zorlamalıyım\", \"label\": \"kişisel gelişim\"},\n",
        "    {\"text\": \"Bugün hava çok güzel\", \"label\": \"günlük yaşam\"},\n",
        "    {\"text\": \"Yürüyüşe çıkıp biraz temiz hava almalıyım\", \"label\": \"günlük yaşam\"}\n",
        "]\n"
      ]
    },
    {
      "cell_type": "code",
      "source": [
        "import re\n",
        "\n",
        "def tokenize(text):\n",
        "    text = text.lower()  # Küçük harfe çevir\n",
        "    text = re.sub(r\"[^a-zçğıöşü\\s]\", \"\", text)  # Sadece harfleri bırak\n",
        "    return text.split()  # Boşluktan ayır\n",
        "\n",
        "# Uygula\n",
        "documents = [tokenize(item[\"text\"]) for item in dataset]\n",
        "print(documents)\n"
      ],
      "metadata": {
        "colab": {
          "base_uri": "https://localhost:8080/"
        },
        "id": "gye2E2eZW1oD",
        "outputId": "b7d5b4af-8d26-48f2-ffa9-cabd4c7fc9df"
      },
      "execution_count": 2,
      "outputs": [
        {
          "output_type": "stream",
          "name": "stdout",
          "text": [
            "[['kendimi', 'bu', 'dünyada', 'geliştirmeliyim'], ['çok', 'çalışmalı', 've', 'kendimi', 'zorlamalıyım'], ['bugün', 'hava', 'çok', 'güzel'], ['yürüyüşe', 'çıkıp', 'biraz', 'temiz', 'hava', 'almalıyım']]\n"
          ]
        }
      ]
    },
    {
      "cell_type": "code",
      "source": [
        "documents"
      ],
      "metadata": {
        "colab": {
          "base_uri": "https://localhost:8080/"
        },
        "id": "-OwCfkTuYIkV",
        "outputId": "4adf3bc4-3b4a-4a76-d11b-b0a19c340925"
      },
      "execution_count": 5,
      "outputs": [
        {
          "output_type": "execute_result",
          "data": {
            "text/plain": [
              "[['kendimi', 'bu', 'dünyada', 'geliştirmeliyim'],\n",
              " ['çok', 'çalışmalı', 've', 'kendimi', 'zorlamalıyım'],\n",
              " ['bugün', 'hava', 'çok', 'güzel'],\n",
              " ['yürüyüşe', 'çıkıp', 'biraz', 'temiz', 'hava', 'almalıyım']]"
            ]
          },
          "metadata": {},
          "execution_count": 5
        }
      ]
    },
    {
      "cell_type": "code",
      "source": [
        "from collections import Counter\n",
        "\n",
        "def compute_tf(tokens):\n",
        "    count = Counter(tokens)  # Kelime say\n",
        "    total = len(tokens)      # Toplam kelime sayısı\n",
        "    return {word: freq / total for word, freq in count.items()}  # Oranı al\n",
        "\n",
        "# Her cümle için TF\n",
        "tf_scores = [compute_tf(doc) for doc in documents]\n",
        "print(tf_scores)\n"
      ],
      "metadata": {
        "colab": {
          "base_uri": "https://localhost:8080/"
        },
        "id": "fl9-TR_-X7Sh",
        "outputId": "467c243e-b426-47e6-a1b6-2f6c296d0883"
      },
      "execution_count": 3,
      "outputs": [
        {
          "output_type": "stream",
          "name": "stdout",
          "text": [
            "[{'kendimi': 0.25, 'bu': 0.25, 'dünyada': 0.25, 'geliştirmeliyim': 0.25}, {'çok': 0.2, 'çalışmalı': 0.2, 've': 0.2, 'kendimi': 0.2, 'zorlamalıyım': 0.2}, {'bugün': 0.25, 'hava': 0.25, 'çok': 0.25, 'güzel': 0.25}, {'yürüyüşe': 0.16666666666666666, 'çıkıp': 0.16666666666666666, 'biraz': 0.16666666666666666, 'temiz': 0.16666666666666666, 'hava': 0.16666666666666666, 'almalıyım': 0.16666666666666666}]\n"
          ]
        }
      ]
    },
    {
      "cell_type": "code",
      "source": [
        "tf_scores"
      ],
      "metadata": {
        "colab": {
          "base_uri": "https://localhost:8080/"
        },
        "id": "3oI2bUALX-sn",
        "outputId": "0dfab57a-d99e-428a-ef8f-d7a1865da03f"
      },
      "execution_count": 4,
      "outputs": [
        {
          "output_type": "execute_result",
          "data": {
            "text/plain": [
              "[{'kendimi': 0.25, 'bu': 0.25, 'dünyada': 0.25, 'geliştirmeliyim': 0.25},\n",
              " {'çok': 0.2,\n",
              "  'çalışmalı': 0.2,\n",
              "  've': 0.2,\n",
              "  'kendimi': 0.2,\n",
              "  'zorlamalıyım': 0.2},\n",
              " {'bugün': 0.25, 'hava': 0.25, 'çok': 0.25, 'güzel': 0.25},\n",
              " {'yürüyüşe': 0.16666666666666666,\n",
              "  'çıkıp': 0.16666666666666666,\n",
              "  'biraz': 0.16666666666666666,\n",
              "  'temiz': 0.16666666666666666,\n",
              "  'hava': 0.16666666666666666,\n",
              "  'almalıyım': 0.16666666666666666}]"
            ]
          },
          "metadata": {},
          "execution_count": 4
        }
      ]
    },
    {
      "cell_type": "code",
      "source": [
        "import math\n",
        "\n",
        "def compute_idf(docs):\n",
        "    N = len(docs)  # Kaç cümle var\n",
        "    all_words = set(word for doc in docs for word in doc)\n",
        "    idf = {}\n",
        "    for word in all_words:\n",
        "        doc_count = sum(1 for doc in docs if word in doc)\n",
        "        idf[word] = math.log(N / (1 + doc_count))  # +1 bölünme hatasını önler\n",
        "    return idf\n",
        "\n",
        "idf_scores = compute_idf(documents)\n",
        "print(idf_scores)\n"
      ],
      "metadata": {
        "colab": {
          "base_uri": "https://localhost:8080/"
        },
        "id": "YRdsReqyYqm_",
        "outputId": "3e256c67-5863-48c1-a7da-c4fb63e751a2"
      },
      "execution_count": 8,
      "outputs": [
        {
          "output_type": "stream",
          "name": "stdout",
          "text": [
            "{'çalışmalı': 0.6931471805599453, 'temiz': 0.6931471805599453, 've': 0.6931471805599453, 'hava': 0.28768207245178085, 'zorlamalıyım': 0.6931471805599453, 'güzel': 0.6931471805599453, 'kendimi': 0.28768207245178085, 'bugün': 0.6931471805599453, 'çıkıp': 0.6931471805599453, 'almalıyım': 0.6931471805599453, 'biraz': 0.6931471805599453, 'çok': 0.28768207245178085, 'dünyada': 0.6931471805599453, 'geliştirmeliyim': 0.6931471805599453, 'yürüyüşe': 0.6931471805599453, 'bu': 0.6931471805599453}\n"
          ]
        }
      ]
    },
    {
      "cell_type": "code",
      "source": [
        "idf_scores"
      ],
      "metadata": {
        "colab": {
          "base_uri": "https://localhost:8080/"
        },
        "id": "WRNh6o5NYtsH",
        "outputId": "aaaff4a3-4fad-4a1c-a757-ebd9b9a3583c"
      },
      "execution_count": 9,
      "outputs": [
        {
          "output_type": "execute_result",
          "data": {
            "text/plain": [
              "{'çalışmalı': 0.6931471805599453,\n",
              " 'temiz': 0.6931471805599453,\n",
              " 've': 0.6931471805599453,\n",
              " 'hava': 0.28768207245178085,\n",
              " 'zorlamalıyım': 0.6931471805599453,\n",
              " 'güzel': 0.6931471805599453,\n",
              " 'kendimi': 0.28768207245178085,\n",
              " 'bugün': 0.6931471805599453,\n",
              " 'çıkıp': 0.6931471805599453,\n",
              " 'almalıyım': 0.6931471805599453,\n",
              " 'biraz': 0.6931471805599453,\n",
              " 'çok': 0.28768207245178085,\n",
              " 'dünyada': 0.6931471805599453,\n",
              " 'geliştirmeliyim': 0.6931471805599453,\n",
              " 'yürüyüşe': 0.6931471805599453,\n",
              " 'bu': 0.6931471805599453}"
            ]
          },
          "metadata": {},
          "execution_count": 9
        }
      ]
    },
    {
      "cell_type": "code",
      "source": [
        "def compute_tfidf(tf, idf):\n",
        "    return {word: tf[word] * idf.get(word, 0.0) for word in tf}\n",
        "\n",
        "tfidf_vectors = [compute_tfidf(tf, idf_scores) for tf in tf_scores]\n",
        "print(tfidf_vectors)"
      ],
      "metadata": {
        "colab": {
          "base_uri": "https://localhost:8080/"
        },
        "id": "u5jil2drYa0w",
        "outputId": "1f180ced-6262-4c44-83ed-6397e6c43629"
      },
      "execution_count": 14,
      "outputs": [
        {
          "output_type": "stream",
          "name": "stdout",
          "text": [
            "[{'kendimi': 0.07192051811294521, 'bu': 0.17328679513998632, 'dünyada': 0.17328679513998632, 'geliştirmeliyim': 0.17328679513998632}, {'çok': 0.05753641449035617, 'çalışmalı': 0.13862943611198905, 've': 0.13862943611198905, 'kendimi': 0.05753641449035617, 'zorlamalıyım': 0.13862943611198905}, {'bugün': 0.17328679513998632, 'hava': 0.07192051811294521, 'çok': 0.07192051811294521, 'güzel': 0.17328679513998632}, {'yürüyüşe': 0.11552453009332421, 'çıkıp': 0.11552453009332421, 'biraz': 0.11552453009332421, 'temiz': 0.11552453009332421, 'hava': 0.04794701207529681, 'almalıyım': 0.11552453009332421}]\n"
          ]
        }
      ]
    },
    {
      "cell_type": "code",
      "source": [
        "tfidf_vectors"
      ],
      "metadata": {
        "colab": {
          "base_uri": "https://localhost:8080/"
        },
        "id": "t0LC97sgZDyh",
        "outputId": "158c3c13-6932-4f5e-e8c0-449efb44d8c7"
      },
      "execution_count": 11,
      "outputs": [
        {
          "output_type": "execute_result",
          "data": {
            "text/plain": [
              "[{'kendimi': 0.07192051811294521,\n",
              "  'bu': 0.17328679513998632,\n",
              "  'dünyada': 0.17328679513998632,\n",
              "  'geliştirmeliyim': 0.17328679513998632},\n",
              " {'çok': 0.05753641449035617,\n",
              "  'çalışmalı': 0.13862943611198905,\n",
              "  've': 0.13862943611198905,\n",
              "  'kendimi': 0.05753641449035617,\n",
              "  'zorlamalıyım': 0.13862943611198905},\n",
              " {'bugün': 0.17328679513998632,\n",
              "  'hava': 0.07192051811294521,\n",
              "  'çok': 0.07192051811294521,\n",
              "  'güzel': 0.17328679513998632},\n",
              " {'yürüyüşe': 0.11552453009332421,\n",
              "  'çıkıp': 0.11552453009332421,\n",
              "  'biraz': 0.11552453009332421,\n",
              "  'temiz': 0.11552453009332421,\n",
              "  'hava': 0.04794701207529681,\n",
              "  'almalıyım': 0.11552453009332421}]"
            ]
          },
          "metadata": {},
          "execution_count": 11
        }
      ]
    },
    {
      "cell_type": "code",
      "source": [
        "all_words = sorted(idf_scores.keys())\n",
        "\n",
        "def vectorize(tfidf):\n",
        "    return [tfidf.get(word, 0.0) for word in all_words]\n",
        "\n",
        "X = [vectorize(vec) for vec in tfidf_vectors]\n",
        "y = [item[\"label\"] for item in dataset]"
      ],
      "metadata": {
        "id": "MWywaJuJZh4Q"
      },
      "execution_count": 12,
      "outputs": []
    },
    {
      "cell_type": "code",
      "metadata": {
        "colab": {
          "base_uri": "https://localhost:8080/"
        },
        "id": "5b8f02e2",
        "outputId": "8e9c185d-880d-42c8-e58f-32bc262db467"
      },
      "source": [
        "from sklearn.naive_bayes import MultinomialNB\n",
        "from sklearn.preprocessing import LabelEncoder\n",
        "\n",
        "le = LabelEncoder()\n",
        "y_encoded = le.fit_transform(y)\n",
        "\n",
        "model = MultinomialNB()\n",
        "model.fit(X, y_encoded)\n",
        "\n",
        "# Yeni bir cümle\n",
        "test_sentence = \"Kendimi daha çok geliştirmeliyim\"\n",
        "tokens = tokenize(test_sentence)\n",
        "tf = compute_tf(tokens)\n",
        "tfidf = compute_tfidf(tf, idf_scores)\n",
        "vector = vectorize(tfidf)\n",
        "\n",
        "pred = model.predict([vector])\n",
        "print(\"Tahmin:\", le.inverse_transform(pred)[0])"
      ],
      "execution_count": 15,
      "outputs": [
        {
          "output_type": "stream",
          "name": "stdout",
          "text": [
            "Tahmin: kişisel gelişim\n"
          ]
        }
      ]
    }
  ]
}